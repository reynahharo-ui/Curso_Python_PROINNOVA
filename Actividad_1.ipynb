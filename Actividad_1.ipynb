{
  "nbformat": 4,
  "nbformat_minor": 0,
  "metadata": {
    "colab": {
      "provenance": [],
      "authorship_tag": "ABX9TyPwy1NfHDNG8878u9FQsBPJ",
      "include_colab_link": true
    },
    "kernelspec": {
      "name": "python3",
      "display_name": "Python 3"
    },
    "language_info": {
      "name": "python"
    }
  },
  "cells": [
    {
      "cell_type": "markdown",
      "metadata": {
        "id": "view-in-github",
        "colab_type": "text"
      },
      "source": [
        "<a href=\"https://colab.research.google.com/github/reynahharo-ui/Curso_Python_PROINNOVA/blob/main/Actividad_1.ipynb\" target=\"_parent\"><img src=\"https://colab.research.google.com/assets/colab-badge.svg\" alt=\"Open In Colab\"/></a>"
      ]
    },
    {
      "cell_type": "markdown",
      "source": [
        "####**Actividad 1.** Configuración del Entorno de Trabajo Gooble Colab\n",
        "\n",
        "10 de octubre de 2025\n",
        "\n",
        "*Curso PROINNOVA* \"Análisis y visualización de datos con Python en la nube\"\n",
        "\n",
        "*Participante:* **Reyna Guadalupe Leticia Hernández Haro**\n",
        "\n",
        "Centro Universitario de Ciencias Sociales y Humanidades. Departamento de Letras."
      ],
      "metadata": {
        "id": "0GQsMuNQjCyI"
      }
    },
    {
      "cell_type": "code",
      "source": [
        "import datetime\n",
        "#Hora (Tiempo universal coordinado, UTC) y fecha\n",
        "now=datetime.datetime.now()\n",
        "print(f\"Fecha y hora (UTC): {now.strftime('%Y-%m-%d %H:%M')}\")"
      ],
      "metadata": {
        "id": "mfq5ODi6jldN",
        "colab": {
          "base_uri": "https://localhost:8080/"
        },
        "outputId": "3d442247-68e6-4cf5-9fff-5019cbcd743f"
      },
      "execution_count": 1,
      "outputs": [
        {
          "output_type": "stream",
          "name": "stdout",
          "text": [
            "Fecha y hora (UTC): 2025-10-13 03:17\n"
          ]
        }
      ]
    },
    {
      "cell_type": "markdown",
      "source": [
        "**_¿Cuál podría ser el uso potencial?_** Pienso que en alguna investigación puedo comenzar a trabajar acerca de esta programación en las Letras. Mi campo de estudio, en su mayoría, es la literatura, por  lo que quizá pueda ayudar a construir un flujo de información para preguntas o resúmenes de los libros que se leen."
      ],
      "metadata": {
        "id": "OPLFHxoLnHAu"
      }
    },
    {
      "cell_type": "code",
      "source": [
        "import sys\n",
        "#Mostrar información de la versión de Python\n",
        "print(\"Versión de Python:\", sys.version)\n",
        "\n",
        "import platform\n",
        "#Parámetros del entorno de ejecución (ejemplo con algunas variables de entorno)\n",
        "print(\"\\nParámetros del entorno de ejecución:\")\n",
        "print(f\"Sistema Operativo:{platform.system()}\")\n",
        "print(f\"Nombredel nodo:{platform.node()}\")\n",
        "print(f\"Arquitectura:{platform.architecture()}\")\n",
        "print(f\"Procesador:{platform.processor()}\")"
      ],
      "metadata": {
        "colab": {
          "base_uri": "https://localhost:8080/"
        },
        "id": "_f1zcXGTlCpr",
        "outputId": "f585f096-dd45-4de3-d3e0-62a54041483a"
      },
      "execution_count": 2,
      "outputs": [
        {
          "output_type": "stream",
          "name": "stdout",
          "text": [
            "Versión de Python: 3.12.11 (main, Jun  4 2025, 08:56:18) [GCC 11.4.0]\n",
            "\n",
            "Parámetros del entorno de ejecución:\n",
            "Sistema Operativo:Linux\n",
            "Nombredel nodo:d63fca00a8b8\n",
            "Arquitectura:('64bit', 'ELF')\n",
            "Procesador:x86_64\n"
          ]
        }
      ]
    }
  ]
}