{
  "nbformat": 4,
  "nbformat_minor": 0,
  "metadata": {
    "colab": {
      "provenance": [],
      "authorship_tag": "ABX9TyOc2K+DUwWaZFPMHOrhT0Ul",
      "include_colab_link": true
    },
    "kernelspec": {
      "name": "python3",
      "display_name": "Python 3"
    },
    "language_info": {
      "name": "python"
    }
  },
  "cells": [
    {
      "cell_type": "markdown",
      "metadata": {
        "id": "view-in-github",
        "colab_type": "text"
      },
      "source": [
        "<a href=\"https://colab.research.google.com/github/reynahharo-ui/Curso_Python_PROINNOVA/blob/main/Proyecto_ChatBot.ipynb\" target=\"_parent\"><img src=\"https://colab.research.google.com/assets/colab-badge.svg\" alt=\"Open In Colab\"/></a>"
      ]
    },
    {
      "cell_type": "markdown",
      "source": [
        "####**Proyecto 1.** Chat bot simple\n",
        "\n",
        "25 de octubre de 2025\n",
        "\n",
        "*Curso PROINNOVA* \"Análisis y visualización de datos con Python en la nube\"\n",
        "\n",
        "*Participante:* **Reyna Guadalupe Leticia Hernández Haro**\n",
        "\n",
        "Centro Universitario de Ciencias Sociales y Humanidades. Departamento de Letras."
      ],
      "metadata": {
        "id": "0GQsMuNQjCyI"
      }
    },
    {
      "cell_type": "code",
      "source": [
        "\n",
        "def saludo(nombre,campus):\n",
        "  print(\"Hola\")\n",
        "  print(\"Me llamo chatbot\")\n",
        "  print(\"\\nTe doy la bienvenida al ciclo 2025B,\" + nombre)\n",
        "  print(\"Tu campus es\"  +  campus)\n",
        "saludo(\"Reyna\", \"CUCSH\")\n"
      ],
      "metadata": {
        "colab": {
          "base_uri": "https://localhost:8080/"
        },
        "id": "yiusrMBZkVuQ",
        "outputId": "debf5229-91c1-48a6-b7e3-9482556edd24"
      },
      "execution_count": null,
      "outputs": [
        {
          "output_type": "stream",
          "name": "stdout",
          "text": [
            "Hola\n",
            "Me llamo chatbot\n",
            "\n",
            "Te doy la bienvenida al ciclo 2025B,Reyna\n",
            "Tu campus esCUCSH\n"
          ]
        }
      ]
    }
  ]
}