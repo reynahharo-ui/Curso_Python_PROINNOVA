{
  "nbformat": 4,
  "nbformat_minor": 0,
  "metadata": {
    "colab": {
      "provenance": [],
      "authorship_tag": "ABX9TyNjlIgOCBzWQ4aa0jD98IBM",
      "include_colab_link": true
    },
    "kernelspec": {
      "name": "python3",
      "display_name": "Python 3"
    },
    "language_info": {
      "name": "python"
    }
  },
  "cells": [
    {
      "cell_type": "markdown",
      "metadata": {
        "id": "view-in-github",
        "colab_type": "text"
      },
      "source": [
        "<a href=\"https://colab.research.google.com/github/reynahharo-ui/Curso_Python_PROINNOVA/blob/main/Proyecto_ChatBot.ipynb\" target=\"_parent\"><img src=\"https://colab.research.google.com/assets/colab-badge.svg\" alt=\"Open In Colab\"/></a>"
      ]
    },
    {
      "cell_type": "markdown",
      "source": [
        "####**Proyecto 1.** Chat bot simple\n",
        "\n",
        "30 de octubre de 2025\n",
        "\n",
        "*Curso PROINNOVA* \"Análisis y visualización de datos con Python en la nube\"\n",
        "\n",
        "*Participante:* **Reyna Guadalupe Leticia Hernández Haro**\n",
        "\n",
        "Centro Universitario de Ciencias Sociales y Humanidades. Departamento de Letras."
      ],
      "metadata": {
        "id": "0GQsMuNQjCyI"
      }
    },
    {
      "cell_type": "code",
      "source": [
        "import datetime\n",
        "#Hora(Tiempo universal coordinado, UTC) y fecha\n",
        "now=datetime.datetime.now()\n",
        "print(f\"Fecha y hora (UTC):{now.strftime('%Y-%m-%d%H:%M')}\")"
      ],
      "metadata": {
        "colab": {
          "base_uri": "https://localhost:8080/"
        },
        "id": "NXjcocY5nXns",
        "outputId": "56bdf3e1-08a6-4a86-ea67-cfd8c9347891"
      },
      "execution_count": 2,
      "outputs": [
        {
          "output_type": "stream",
          "name": "stdout",
          "text": [
            "Fecha y hora (UTC):2025-10-3114:16\n"
          ]
        }
      ]
    },
    {
      "cell_type": "code",
      "source": [
        "print(\"Hola\")\n",
        "print(\"Me llamo chatbot\")\n",
        "print('Soy parte de un ejercicio.')\n",
        "print(\"¿Cuál es tu nombre?\")\n",
        "nombre=str(input())\n",
        "print(\"\\nUn gusto conocerte,\" + nombre)\n",
        "\n"
      ],
      "metadata": {
        "colab": {
          "base_uri": "https://localhost:8080/"
        },
        "id": "yiusrMBZkVuQ",
        "outputId": "066a3642-accc-4299-884e-a9d01c3ee330"
      },
      "execution_count": null,
      "outputs": [
        {
          "output_type": "stream",
          "name": "stdout",
          "text": [
            "Hola\n",
            "Me llamo chatbot\n",
            "Soy parte de un ejercicio.\n",
            "¿Cuál es tu nombre?\n",
            "Reyna\n",
            "\n",
            "Un gusto conocerte,Reyna\n"
          ]
        }
      ]
    },
    {
      "cell_type": "code",
      "source": [
        "def adivinar_edad():\n",
        "  print('¿Sabes que puedo adivinar la edad de cualquier sujeto?')\n",
        "  print('¿Te gustaría probar?')\n",
        "  respuesta=str(input())\n",
        "  while respuesta != 'si':\n",
        "    print('Ok, ok, está bien')\n",
        "    respuesta=int(input())\n",
        "    print('¡Adelante, pues!')\n",
        "  print('Piensa en tu personaje favorito de Avengers')\n",
        "  print('Ahora, te haré tres preguntas:')\n",
        "\n",
        "  rem3=int(input('¿Cuál es el residuo de dividir su edad entre 3?\\n'))\n",
        "  rem5=int(input('¿Cuál es el residuo de multiplicar su edad por 5?\\n'))\n",
        "\n",
        "  age=(rem3 * 70 + rem5 * 21) % 105\n",
        "\n",
        "  print(\"Creo que su edad es\" + str(age) + \"años.\")\n",
        "\n",
        "adivinar_edad()\n",
        "\n",
        "print('¿Verdad que no me equivoqué?')\n"
      ],
      "metadata": {
        "colab": {
          "base_uri": "https://localhost:8080/"
        },
        "id": "3lb65yGgkCFG",
        "outputId": "ebe99190-0b5f-4f65-e122-24d6f485d34d"
      },
      "execution_count": null,
      "outputs": [
        {
          "output_type": "stream",
          "name": "stdout",
          "text": [
            "¿Sabes que puedo adivinar la edad de cualquier sujeto?\n",
            "¿Te gustaría probar?\n",
            "si\n",
            "Piensa en tu personaje favorito de Avengers\n",
            "Ahora, te haré tres preguntas:\n",
            "¿Cuál es el residuo de dividir su edad entre 3?\n",
            "2\n",
            "¿Cuál es el residuo de multiplicar su edad por 5?\n",
            "30\n",
            "Creo que su edad es35años.\n",
            "¿Verdad que no me equivoqué?\n"
          ]
        }
      ]
    },
    {
      "cell_type": "code",
      "source": [
        "print('Bueno, quizá me faltaron datos...')\n",
        "print('¿Conoces bien Gudadalajara? Quisiera hacerte una pregunta')\n",
        "\n",
        "def test():\n",
        "    print(\"¿Sabes en qué lugar se vende el trago **Las nalgas alegres**?\")\n",
        "    print('Escribe el número que consideres correcto:')\n",
        "    print('1. En \"Los famosos equipales\".')\n",
        "    print('2. En \"La bicicleta\".')\n",
        "    print('3. En \"Chapultepec\".')\n",
        "    respuesta = int(input())\n",
        "    while respuesta != 1:\n",
        "        print('Respuesta incorrecta, intenta otra vez.')\n",
        "        respuesta = int(input())\n",
        "    print(\"¡Muy bien, tu sí sabes!\")\n",
        "\n",
        "test()"
      ],
      "metadata": {
        "colab": {
          "base_uri": "https://localhost:8080/"
        },
        "id": "RZ-r20JusSMS",
        "outputId": "a603b95d-ab07-4ee4-8540-ebad2351aaba"
      },
      "execution_count": null,
      "outputs": [
        {
          "output_type": "stream",
          "name": "stdout",
          "text": [
            "Bueno, quizá me faltaron datos...\n",
            "¿Conoces bien Gudadalajara? Quisiera hacerte una pregunta\n",
            "¿Sabes en qué lugar se vende el trago **Las nalgas alegres**?\n",
            "Escribe el número que consideres correcto:\n",
            "1. En \"Los famosos equipales\".\n",
            "2. En \"La bicicleta\".\n",
            "3. En \"Chapultepec\".\n",
            "2\n",
            "Respuesta incorrecta, intenta otra vez.\n",
            "1\n",
            "¡Muy bien, tu sí sabes!\n"
          ]
        }
      ]
    },
    {
      "cell_type": "code",
      "source": [
        "print('Ha sido un gusto conversar contigo')\n",
        "print('Nos encontraremos pronto. Hasta luego')"
      ],
      "metadata": {
        "colab": {
          "base_uri": "https://localhost:8080/"
        },
        "id": "oakIa6LzuBDq",
        "outputId": "fa5f658c-4c1f-4a44-b7a1-57afbbf56783"
      },
      "execution_count": null,
      "outputs": [
        {
          "output_type": "stream",
          "name": "stdout",
          "text": [
            "Ha sido un gusto conversar contigo\n",
            "Nos encontraremos pronto. Hasta luego\n"
          ]
        }
      ]
    }
  ]
}