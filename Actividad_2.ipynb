{
  "nbformat": 4,
  "nbformat_minor": 0,
  "metadata": {
    "colab": {
      "provenance": [],
      "authorship_tag": "ABX9TyOxMwaLdQ7UQLvjYaLmnKzr",
      "include_colab_link": true
    },
    "kernelspec": {
      "name": "python3",
      "display_name": "Python 3"
    },
    "language_info": {
      "name": "python"
    }
  },
  "cells": [
    {
      "cell_type": "markdown",
      "metadata": {
        "id": "view-in-github",
        "colab_type": "text"
      },
      "source": [
        "<a href=\"https://colab.research.google.com/github/reynahharo-ui/Curso_Python_PROINNOVA/blob/main/Actividad_2.ipynb\" target=\"_parent\"><img src=\"https://colab.research.google.com/assets/colab-badge.svg\" alt=\"Open In Colab\"/></a>"
      ]
    },
    {
      "cell_type": "markdown",
      "source": [
        "####**Actividad 2.** Uso de Google Drive en combinación con Google Colab\n",
        "\n",
        "12 de octubre de 2025\n",
        "\n",
        "_Curso PROINNOVA:_ Análisis y visualización de datos con Python en la nube\n",
        "\n",
        "_Participante:_ **Reyna Guadalupe Leticia Hernández Haro**\n",
        "\n",
        "Centro Universitario de Ciencias Sociales y Humanidades. Departamento de Letras"
      ],
      "metadata": {
        "id": "_OygF5eczaGC"
      }
    },
    {
      "cell_type": "code",
      "source": [
        "import datetime\n",
        "#Hora(Tiempo universal coordinado,UTC) y fecha\n",
        "now=datetime.datetime.now()\n",
        "print(f\"Fecha y hora(UTC):{now.strftime('%Y-%m-%d%H:%M')}\")"
      ],
      "metadata": {
        "colab": {
          "base_uri": "https://localhost:8080/"
        },
        "id": "3l_vdKgK0xNC",
        "outputId": "8acf8ba6-ec37-4c46-fb8a-28e59779f1c3"
      },
      "execution_count": 1,
      "outputs": [
        {
          "output_type": "stream",
          "name": "stdout",
          "text": [
            "Fecha y hora(UTC):2025-10-1304:30\n"
          ]
        }
      ]
    },
    {
      "cell_type": "code",
      "source": [
        "from google.colab import drive\n",
        "drive.mount('/content/drive')\n"
      ],
      "metadata": {
        "colab": {
          "base_uri": "https://localhost:8080/"
        },
        "id": "WC2PqzzCBTxJ",
        "outputId": "df447c74-0c16-493b-ed71-100bd5728a1f"
      },
      "execution_count": 18,
      "outputs": [
        {
          "output_type": "stream",
          "name": "stdout",
          "text": [
            "Drive already mounted at /content/drive; to attempt to forcibly remount, call drive.mount(\"/content/drive\", force_remount=True).\n"
          ]
        }
      ]
    },
    {
      "cell_type": "code",
      "source": [
        "archivo = \"Ejercicio.txt\"\n",
        "ruta = \"/content/drive/MyDrive/Colab Data-RHH/\"\n",
        "\n",
        "with open(ruta+archivo, 'r') as f:\n",
        "  contenido = f.read()\n",
        "  print(contenido)"
      ],
      "metadata": {
        "colab": {
          "base_uri": "https://localhost:8080/"
        },
        "id": "fwFWJjfOBime",
        "outputId": "8104e3d7-53f6-465e-c077-f7d7d9fa91e6"
      },
      "execution_count": 19,
      "outputs": [
        {
          "output_type": "stream",
          "name": "stdout",
          "text": [
            "Bienvenidos al curso de Introducción a los estudios literario\n",
            "Esta es la primera asignatura de corte teórico que cursarás en la Licenciatura en Letras hispánicas. El objetivo es poseer el bagaje teórico más esencial para que puedas acercarte a la literatura con un lente más objetivo y técnico. Así que, no dudes en preguntar todo aquello que no te quede claro. ¡Adelante!\n"
          ]
        }
      ]
    }
  ]
}