{
  "nbformat": 4,
  "nbformat_minor": 0,
  "metadata": {
    "colab": {
      "provenance": [],
      "authorship_tag": "ABX9TyNjmislhibAS1kgnU3+9TxX",
      "include_colab_link": true
    },
    "kernelspec": {
      "name": "python3",
      "display_name": "Python 3"
    },
    "language_info": {
      "name": "python"
    }
  },
  "cells": [
    {
      "cell_type": "markdown",
      "metadata": {
        "id": "view-in-github",
        "colab_type": "text"
      },
      "source": [
        "<a href=\"https://colab.research.google.com/github/reynahharo-ui/Curso_Python_PROINNOVA/blob/main/Convertidor_de_divisas.ipynb\" target=\"_parent\"><img src=\"https://colab.research.google.com/assets/colab-badge.svg\" alt=\"Open In Colab\"/></a>"
      ]
    },
    {
      "cell_type": "markdown",
      "source": [
        "####**Proyecto 2.** Convertidor de divisas\n",
        "\n",
        "31 de octubre de 2025\n",
        "\n",
        "_Curso PROINNOVA:_ Análisis y visualización de datos con Python en la nube\n",
        "\n",
        "_Participante:_ **Reyna Guadalupe Leticia Hernández Haro**\n",
        "\n",
        "Centro Universitario de Ciencias Sociales y Humanidades. Departamento de Letras"
      ],
      "metadata": {
        "id": "_OygF5eczaGC"
      }
    },
    {
      "cell_type": "code",
      "source": [
        "import datetime\n",
        "#Hora(Tiempo universal coordinado,UTC) y fecha\n",
        "now=datetime.datetime.now()\n",
        "print(f\"Fecha y hora(UTC):{now.strftime('%Y-%m-%d%H:%M')}\")"
      ],
      "metadata": {
        "colab": {
          "base_uri": "https://localhost:8080/"
        },
        "id": "3l_vdKgK0xNC",
        "outputId": "3875337c-9c3b-4749-d3e3-5661f31edf94"
      },
      "execution_count": 4,
      "outputs": [
        {
          "output_type": "stream",
          "name": "stdout",
          "text": [
            "Fecha y hora(UTC):2025-10-3112:21\n"
          ]
        }
      ]
    },
    {
      "cell_type": "code",
      "execution_count": 12,
      "metadata": {
        "id": "3ufa_ANP19r8"
      },
      "outputs": [],
      "source": [
        "import json\n",
        "import requests\n",
        "\n",
        "def currency_search(cur):\n",
        "    r = requests.get(\"http://www.floatrates.com/daily/{}.json\".format(cur))\n",
        "    return r.text\n",
        "\n",
        "exchange_file = currency_search(\"mxn\")\n",
        "exchange_dict = json.loads(exchange_file)"
      ]
    },
    {
      "cell_type": "code",
      "source": [
        "# acceder a una parte de diccionario\n",
        "print(exchange_dict[\"usd\"])\n",
        "\n",
        "# imprimir us contenido en un formato más amigable\n",
        "print(json.dumps(exchange_dict[\"usd\"], indent=4))"
      ],
      "metadata": {
        "colab": {
          "base_uri": "https://localhost:8080/"
        },
        "id": "ksq8NJWUSuf6",
        "outputId": "fe672db3-f164-4a56-f7dc-1cca9098501b"
      },
      "execution_count": 13,
      "outputs": [
        {
          "output_type": "stream",
          "name": "stdout",
          "text": [
            "{'code': 'USD', 'alphaCode': 'USD', 'numericCode': '840', 'name': 'U.S. Dollar', 'rate': 0.053906785440765, 'date': 'Fri, 31 Oct 2025 11:55:08 GMT', 'inverseRate': 18.550540378611}\n",
            "{\n",
            "    \"code\": \"USD\",\n",
            "    \"alphaCode\": \"USD\",\n",
            "    \"numericCode\": \"840\",\n",
            "    \"name\": \"U.S. Dollar\",\n",
            "    \"rate\": 0.053906785440765,\n",
            "    \"date\": \"Fri, 31 Oct 2025 11:55:08 GMT\",\n",
            "    \"inverseRate\": 18.550540378611\n",
            "}\n"
          ]
        }
      ]
    },
    {
      "cell_type": "code",
      "source": [
        "print(\"\"\"\n",
        "Es un convertidor de divisas.\n",
        "Introduce el código de tres letras de la divisa inicial (por ejemplo, MXN),\n",
        "código de divisa destino (por ejemplo, USD) y la cantidad que pretendes convertir.\n",
        "El resultado será la cantidad en la divisa destino.\n",
        "Si quieres salir de programa, solo pulsa la tecla *Enter* al momento de especificar\n",
        "la divisa.\n",
        "¡Suerte en tus conversiones!\n",
        "------------------------------------------------------------------------------\n",
        "\"\"\")\n",
        "\n",
        "exchange_dict = ()\n",
        "my_currency = str(input(\"¿Cuál es la divisa inicial?: \"))\n",
        "my_currency = my_currency.lower()\n",
        "if my_currency == \"\":\n",
        "  print(\"¡Adios!\")\n",
        "else:\n",
        "  try:\n",
        "    exchange_file = currency_search(my_currency)\n",
        "    exchange_dict = json.loads(exchange_file)\n",
        "    #print(json.dumps(exchange_dict, indent=4))\n",
        "    print(\"Divisa se encontró en la base de datos, podemos trabajar\")\n",
        "  except:\n",
        "    print(\"Divisa no encontrada\")"
      ],
      "metadata": {
        "colab": {
          "base_uri": "https://localhost:8080/"
        },
        "id": "Pgr0-VsONEqo",
        "outputId": "0bdb9606-abe9-405d-cbab-95f4edddfc55"
      },
      "execution_count": 14,
      "outputs": [
        {
          "output_type": "stream",
          "name": "stdout",
          "text": [
            "\n",
            "Es un convertidor de divisas.\n",
            "Introduce el código de tres letras de la divisa inicial (por ejemplo, MXN),\n",
            "código de divisa destino (por ejemplo, USD) y la cantidad que pretendes convertir.\n",
            "El resultado será la cantidad en la divisa destino.\n",
            "Si quieres salir de programa, solo pulsa la tecla *Enter* al momento de especificar\n",
            "la divisa.\n",
            "¡Suerte en tus conversiones!\n",
            "------------------------------------------------------------------------------\n",
            "\n",
            "¿Cuál es la divisa inicial?: mxn\n",
            "Divisa se encontró en la base de datos, podemos trabajar\n"
          ]
        }
      ]
    },
    {
      "cell_type": "code",
      "source": [
        "while exchange_dict:\n",
        "    target = str(input(\"\\nDivisa destino: \"))\n",
        "    if target == \"\":\n",
        "        print(\"¡Adios!\")\n",
        "        break\n",
        "    target = target.lower()\n",
        "    try:\n",
        "      cambio = exchange_dict[target][\"rate\"]\n",
        "    except:\n",
        "      print(\"Divisa no encontrada\")\n",
        "      continue\n",
        "    try:\n",
        "      amount = float(input(f\"Cantidad de dinero por convertir ({my_currency.upper()}): \"))\n",
        "    except:\n",
        "      print(\"Cantidad introducida no es valida\")\n",
        "      continue\n",
        "\n",
        "    target_amount = cambio * amount\n",
        "    print(\"Resultado de conversión: {} {}.\".format(round(target_amount, 2), target.upper()))\n"
      ],
      "metadata": {
        "colab": {
          "base_uri": "https://localhost:8080/"
        },
        "id": "F-zIE7yvN8Ef",
        "outputId": "3cac25bc-2793-48ec-8d79-da111bf72812"
      },
      "execution_count": 6,
      "outputs": [
        {
          "output_type": "stream",
          "name": "stdout",
          "text": [
            "\n",
            "Divisa destino: mnx\n",
            "Divisa no encontrada\n",
            "\n",
            "Divisa destino: mxn\n",
            "Cantidad de dinero por convertir (USD): 450\n",
            "Resultado de conversión: 8347.74 MXN.\n",
            "\n",
            "Divisa destino: mxn\n",
            "Cantidad de dinero por convertir (USD): 14\n",
            "Resultado de conversión: 259.71 MXN.\n",
            "\n",
            "Divisa destino: eur\n",
            "Cantidad de dinero por convertir (USD): 451\n",
            "Resultado de conversión: 389.75 EUR.\n",
            "\n",
            "Divisa destino: \n",
            "¡Adios!\n"
          ]
        }
      ]
    }
  ]
}